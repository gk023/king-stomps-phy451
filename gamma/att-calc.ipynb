{
 "cells": [
  {
   "cell_type": "code",
   "execution_count": 1,
   "metadata": {},
   "outputs": [],
   "source": [
    "import numpy as np\n",
    "import matplotlib.pyplot as plt\n",
    "from scipy.optimize import curve_fit\n",
    "%matplotlib inline"
   ]
  },
  {
   "cell_type": "code",
   "execution_count": 2,
   "metadata": {},
   "outputs": [],
   "source": [
    "photopeaks=[] #store the photopeak energies as we go along\n",
    "att=[] #store the attenuation coefficients as we go along\n",
    "\n",
    "def func(x,a,b,c):\n",
    "    return a*np.exp(-b*x)+c\n",
    "\n",
    "plt.rc('text', usetex=True)"
   ]
  },
  {
   "cell_type": "code",
   "execution_count": 31,
   "metadata": {},
   "outputs": [
    {
     "ename": "FileNotFoundError",
     "evalue": "[Errno 2] No such file or directory: 'Pb-data-Ba5.txt'",
     "output_type": "error",
     "traceback": [
      "\u001b[1;31m---------------------------------------------------------------------------\u001b[0m",
      "\u001b[1;31mFileNotFoundError\u001b[0m                         Traceback (most recent call last)",
      "\u001b[1;32m<ipython-input-31-ee3b60d7ffad>\u001b[0m in \u001b[0;36m<module>\u001b[1;34m()\u001b[0m\n\u001b[0;32m      3\u001b[0m \u001b[0mcounts\u001b[0m\u001b[1;33m=\u001b[0m\u001b[1;33m[\u001b[0m\u001b[1;33m]\u001b[0m\u001b[1;33m\u001b[0m\u001b[0m\n\u001b[0;32m      4\u001b[0m \u001b[0mE\u001b[0m\u001b[1;33m=\u001b[0m\u001b[1;33m[\u001b[0m\u001b[1;33m]\u001b[0m\u001b[1;33m\u001b[0m\u001b[0m\n\u001b[1;32m----> 5\u001b[1;33m \u001b[0mf\u001b[0m\u001b[1;33m=\u001b[0m\u001b[0mopen\u001b[0m\u001b[1;33m(\u001b[0m\u001b[1;34m'Pb-data-Ba5.txt'\u001b[0m\u001b[1;33m,\u001b[0m\u001b[1;34m'r'\u001b[0m\u001b[1;33m)\u001b[0m\u001b[1;33m\u001b[0m\u001b[0m\n\u001b[0m\u001b[0;32m      6\u001b[0m \u001b[1;33m\u001b[0m\u001b[0m\n\u001b[0;32m      7\u001b[0m \u001b[1;32mfor\u001b[0m \u001b[0mline\u001b[0m \u001b[1;32min\u001b[0m \u001b[0mf\u001b[0m\u001b[1;33m.\u001b[0m\u001b[0mreadlines\u001b[0m\u001b[1;33m(\u001b[0m\u001b[1;33m)\u001b[0m\u001b[1;33m:\u001b[0m\u001b[1;33m\u001b[0m\u001b[0m\n",
      "\u001b[1;31mFileNotFoundError\u001b[0m: [Errno 2] No such file or directory: 'Pb-data-Ba5.txt'"
     ]
    }
   ],
   "source": [
    "#Fill in energies and use right text files\n",
    "t=[]\n",
    "counts=[]\n",
    "E=[]\n",
    "f=open('Pb-data-Ba5.txt','r')\n",
    "\n",
    "for line in f.readlines():\n",
    "    line = line.strip().split()\n",
    "    nrg=float(line[0])\n",
    "    thick=float(line[1])\n",
    "    ct=float(line[2])\n",
    "    \n",
    "    E.append(nrg)\n",
    "    t.append(thick)\n",
    "    counts.append(ct)\n",
    "\n",
    "photopeaks.append(E[0])\n",
    "\n",
    "#print(t)\n",
    "#print(counts)\n",
    "\n",
    "thickness = np.asarray(t)\n",
    "net = np.asarray(counts)\n",
    "\n",
    "err = []\n",
    "\n",
    "for count in net:\n",
    "    e = np.sqrt(count)+0.0197\n",
    "    err.append(e)\n",
    "    \n",
    "error = np.asarray(err)\n",
    "\n",
    "popt, pcov = curve_fit(func, thickness, net, sigma = error, p0=[1000,0.1,300])\n",
    "\n",
    "mu = str(round(popt[1],4))\n",
    "\n",
    "mu_rho = str(round(popt[1],4)*10/11.35) #put in the right value once we know it to compare\n",
    "#with the XCOM value\n",
    "\n",
    "print('mu '+mu)\n",
    "\n",
    "print('mu_rho '+mu_rho)\n",
    "\n",
    "print('Statistical error (mm^-1)'+str(np.sqrt(pcov[1][1])))\n",
    "\n",
    "print('Statistical error (%)'+str(100*np.sqrt(pcov[1][1])/popt[1]))\n",
    "\n",
    "\n",
    "fig=plt.figure(figsize=(16,8))\n",
    "\n",
    "plt.errorbar(t,counts,yerr=error,fmt='o',color='k',label=\"Net Counts in Peak\",markersize=15)\n",
    "\n",
    "plt.plot(thickness,func(thickness,*popt),color='r',lw=5,label='Best Fit')\n",
    "\n",
    "plt.xlabel(\"Thickness (mm)\",fontsize=35)\n",
    "plt.ylabel(\"Net Counts in Peak\",fontsize=35)\n",
    "plt.tick_params(axis='x',labelsize=35)\n",
    "plt.tick_params(axis='y',labelsize=35)\n",
    "plt.yscale('log')\n",
    "plt.legend(loc='best',fontsize=35)\n",
    "\n",
    "#plt.text(2.5,800, r'$E_{\\gamma}$ = 80.998 keV', fontsize = 35)\n",
    "#plt.text(2.5,700, r'$\\mu(E_{\\gamma})$ = '+mu+\" mm$^{-1}$\", fontsize = 35)\n",
    "\n",
    "plt.savefig(\"133ba-pb-383-redo.pdf\")\n",
    "\n",
    "\n",
    "print(thickness)\n",
    "print(func(thickness,*popt))\n",
    "\n",
    "# Calculating the diagonal^(-1/2) of covariance matrix\\n\",\n",
    "diag=np.zeros((3,3))\n",
    "for i in range(0,3):\n",
    "    for j in range(0,3):\n",
    "        if(i != j):\n",
    "            diag[i][j] = 0\n",
    "        else:\n",
    "            diag[i][j] = 1/np.sqrt(pcov[i][j])\n",
    "            \n",
    "\n",
    "            \n",
    "pcorr=np.matmul(diag,np.matmul(pcov,diag))\n",
    "                                   \n",
    "\n",
    "print(\"Parameter matrix: \")\n",
    "print(popt)        \n",
    "    \n",
    "print(\"Covariance matrix: \")\n",
    "print(pcov)    \n",
    "\n",
    "print(\"Correlation matrix: \")\n",
    "print(pcorr)"
   ]
  },
  {
   "cell_type": "code",
   "execution_count": 67,
   "metadata": {},
   "outputs": [
    {
     "name": "stdout",
     "output_type": "stream",
     "text": [
      "[0.0, 3.88, 7.73, 15.9, 28.22, 40.6]\n",
      "[16659.0, 10578.0, 6919.0, 2778.0, 704.0, 169.0]\n"
     ]
    }
   ],
   "source": [
    "t2=[]\n",
    "counts2=[]\n",
    "\n",
    "for i in range(len(t)):\n",
    "    if(i%2 == 0):\n",
    "        t2.append(t[i])\n",
    "        counts2.append(counts[i])\n",
    "        \n",
    "print(t2)\n",
    "print(counts2)"
   ]
  },
  {
   "cell_type": "code",
   "execution_count": 72,
   "metadata": {},
   "outputs": [
    {
     "name": "stdout",
     "output_type": "stream",
     "text": [
      "[]\n"
     ]
    },
    {
     "ename": "ValueError",
     "evalue": "`sigma` has incorrect shape.",
     "output_type": "error",
     "traceback": [
      "\u001b[1;31m---------------------------------------------------------------------------\u001b[0m",
      "\u001b[1;31mValueError\u001b[0m                                Traceback (most recent call last)",
      "\u001b[1;32m<ipython-input-72-a4881f899843>\u001b[0m in \u001b[0;36m<module>\u001b[1;34m()\u001b[0m\n\u001b[0;32m     13\u001b[0m \u001b[1;33m\u001b[0m\u001b[0m\n\u001b[0;32m     14\u001b[0m \u001b[1;33m\u001b[0m\u001b[0m\n\u001b[1;32m---> 15\u001b[1;33m \u001b[0mpopt2\u001b[0m\u001b[1;33m,\u001b[0m \u001b[0mpcov2\u001b[0m \u001b[1;33m=\u001b[0m \u001b[0mcurve_fit\u001b[0m\u001b[1;33m(\u001b[0m\u001b[0mfunc\u001b[0m\u001b[1;33m,\u001b[0m \u001b[0mthickness2\u001b[0m\u001b[1;33m,\u001b[0m \u001b[0mnet2\u001b[0m\u001b[1;33m,\u001b[0m \u001b[0msigma\u001b[0m \u001b[1;33m=\u001b[0m \u001b[0merror2\u001b[0m\u001b[1;33m,\u001b[0m \u001b[0mp0\u001b[0m\u001b[1;33m=\u001b[0m\u001b[1;33m[\u001b[0m\u001b[1;36m17000\u001b[0m\u001b[1;33m,\u001b[0m\u001b[1;36m0.05\u001b[0m\u001b[1;33m,\u001b[0m\u001b[1;36m300\u001b[0m\u001b[1;33m]\u001b[0m\u001b[1;33m)\u001b[0m\u001b[1;33m\u001b[0m\u001b[0m\n\u001b[0m\u001b[0;32m     16\u001b[0m \u001b[1;33m\u001b[0m\u001b[0m\n\u001b[0;32m     17\u001b[0m \u001b[0mprint\u001b[0m\u001b[1;33m(\u001b[0m\u001b[1;34m'mu '\u001b[0m\u001b[1;33m+\u001b[0m\u001b[0mstr\u001b[0m\u001b[1;33m(\u001b[0m\u001b[0mpopt2\u001b[0m\u001b[1;33m[\u001b[0m\u001b[1;36m1\u001b[0m\u001b[1;33m]\u001b[0m\u001b[1;33m)\u001b[0m\u001b[1;33m)\u001b[0m\u001b[1;33m\u001b[0m\u001b[0m\n",
      "\u001b[1;32mC:\\ProgramData\\Anaconda3\\lib\\site-packages\\scipy\\optimize\\minpack.py\u001b[0m in \u001b[0;36mcurve_fit\u001b[1;34m(f, xdata, ydata, p0, sigma, absolute_sigma, check_finite, bounds, method, jac, **kwargs)\u001b[0m\n\u001b[0;32m    736\u001b[0m                 \u001b[1;32mraise\u001b[0m \u001b[0mValueError\u001b[0m\u001b[1;33m(\u001b[0m\u001b[1;34m\"`sigma` must be positive definite.\"\u001b[0m\u001b[1;33m)\u001b[0m\u001b[1;33m\u001b[0m\u001b[0m\n\u001b[0;32m    737\u001b[0m         \u001b[1;32melse\u001b[0m\u001b[1;33m:\u001b[0m\u001b[1;33m\u001b[0m\u001b[0m\n\u001b[1;32m--> 738\u001b[1;33m             \u001b[1;32mraise\u001b[0m \u001b[0mValueError\u001b[0m\u001b[1;33m(\u001b[0m\u001b[1;34m\"`sigma` has incorrect shape.\"\u001b[0m\u001b[1;33m)\u001b[0m\u001b[1;33m\u001b[0m\u001b[0m\n\u001b[0m\u001b[0;32m    739\u001b[0m     \u001b[1;32melse\u001b[0m\u001b[1;33m:\u001b[0m\u001b[1;33m\u001b[0m\u001b[0m\n\u001b[0;32m    740\u001b[0m         \u001b[0mtransform\u001b[0m \u001b[1;33m=\u001b[0m \u001b[1;32mNone\u001b[0m\u001b[1;33m\u001b[0m\u001b[0m\n",
      "\u001b[1;31mValueError\u001b[0m: `sigma` has incorrect shape."
     ]
    }
   ],
   "source": [
    "thickness2 = np.asarray(t2)\n",
    "net2 = np.asarray(counts2)\n",
    "\n",
    "err2 = []\n",
    "\n",
    "for count in net2:\n",
    "    e2 = np.sqrt(count2)\n",
    "    err2.append(e2)\n",
    "    \n",
    "error2 = np.asarray(err2)\n",
    "\n",
    "print(error2)\n",
    "\n",
    "\n",
    "popt2, pcov2 = curve_fit(func, thickness2, net2, sigma = error2, p0=[17000,0.05,300])\n",
    "\n",
    "print('mu '+str(popt2[1]))\n",
    "\n",
    "print('Statistical error '+str(np.sqrt(pcov2[1][1])))\n",
    "\n",
    "print('Statistical error '+str(100*np.sqrt(pcov2[1][1])/popt2[1]))\n",
    "\n",
    "mu_pb = str(round(popt2[1],4))\n",
    "\n",
    "rho_pb = 1.00 #put in the right value once we know it to compare\n",
    "#with the XCOM value\n",
    "\n",
    "fig=plt.figure(figsize=(16,8))\n",
    "\n",
    "plt.errorbar(t2,counts2,yerr=error2,fmt='o',color='k',label=\"Net Counts in Peak\",markersize=15)\n",
    "\n",
    "plt.plot(thickness2,func(thickness2,*popt),color='r',lw=5,label='Best Fit')\n",
    "\n",
    "plt.xlabel(\"Thickness (mm)\",fontsize=35)\n",
    "plt.ylabel(\"Net Counts in Peak\",fontsize=35)\n",
    "plt.tick_params(axis='x',labelsize=35)\n",
    "plt.tick_params(axis='y',labelsize=35)\n",
    "plt.yscale('log')\n",
    "plt.legend(loc='best',fontsize=35)\n",
    "\n",
    "plt.text(2.5,1000, r'$E_{\\gamma}$ = 661.7 keV', fontsize = 35)\n",
    "plt.text(2.5,500, r'$\\mu(E_{\\gamma})$ = '+mu_pb+\" mm$^{-1}$\", fontsize = 35)\n",
    "\n",
    "plt.savefig(\"137cs-pb-2.pdf\")"
   ]
  },
  {
   "cell_type": "code",
   "execution_count": null,
   "metadata": {},
   "outputs": [],
   "source": []
  }
 ],
 "metadata": {
  "kernelspec": {
   "display_name": "Python 3",
   "language": "python",
   "name": "python3"
  },
  "language_info": {
   "codemirror_mode": {
    "name": "ipython",
    "version": 3
   },
   "file_extension": ".py",
   "mimetype": "text/x-python",
   "name": "python",
   "nbconvert_exporter": "python",
   "pygments_lexer": "ipython3",
   "version": "3.6.5"
  }
 },
 "nbformat": 4,
 "nbformat_minor": 2
}
