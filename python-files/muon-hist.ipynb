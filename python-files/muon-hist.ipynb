{
 "cells": [
  {
   "cell_type": "code",
   "execution_count": 5,
   "metadata": {},
   "outputs": [],
   "source": [
    "import numpy as np\n",
    "import matplotlib.pyplot as plt\n",
    "from scipy.optimize import curve_fit\n",
    "import scipy.optimize as opt\n",
    "%matplotlib inline"
   ]
  },
  {
   "cell_type": "code",
   "execution_count": 6,
   "metadata": {},
   "outputs": [
    {
     "name": "stdout",
     "output_type": "stream",
     "text": [
      "177\n"
     ]
    }
   ],
   "source": [
    "f=open('18-09-11-11-42.data','r')\n",
    "\n",
    "data=[]\n",
    "\n",
    "for line in f.readlines():\n",
    "    line = line.strip().split()\n",
    "    dat = float(line[0])\n",
    "    \n",
    "    if (dat < 20000):\n",
    "        data.append(dat)\n",
    "        \n",
    "        \n",
    "print(len(data))"
   ]
  },
  {
   "cell_type": "code",
   "execution_count": 7,
   "metadata": {},
   "outputs": [
    {
     "name": "stdout",
     "output_type": "stream",
     "text": [
      "[660.0, 4140.0, 5820.0, 60.0, 140.0, 5020.0, 2900.0, 11360.0, 4720.0, 3120.0, 80.0, 2600.0, 880.0, 1160.0, 380.0, 100.0, 1260.0, 740.0, 2620.0, 520.0, 1140.0, 6000.0, 5720.0, 1940.0, 4120.0, 880.0, 2460.0, 700.0, 1540.0, 10560.0, 7980.0, 620.0, 5700.0, 1480.0, 2460.0, 1240.0, 5740.0, 540.0, 4400.0, 1820.0, 200.0, 800.0, 2580.0, 1120.0, 120.0, 1140.0, 1200.0, 4800.0, 140.0, 40.0, 380.0, 1660.0, 240.0, 3680.0, 3280.0, 1100.0, 1860.0, 6540.0, 2200.0, 3920.0, 1360.0, 840.0, 4180.0, 1420.0, 1220.0, 160.0, 9400.0, 9860.0, 120.0, 1780.0, 2780.0, 4440.0, 2240.0, 1800.0, 13320.0, 1300.0, 3080.0, 860.0, 4800.0, 2000.0, 1020.0, 60.0, 800.0, 1100.0, 3580.0, 520.0, 120.0, 640.0, 18400.0, 760.0, 1380.0, 1180.0, 4060.0, 3980.0, 4300.0, 3660.0, 1460.0, 720.0, 140.0, 660.0, 1900.0, 700.0, 300.0, 3580.0, 860.0, 5240.0, 1260.0, 5600.0, 11780.0, 2000.0, 780.0, 6540.0, 860.0, 1400.0, 1200.0, 180.0, 1040.0, 820.0, 2940.0, 1340.0, 2420.0, 640.0, 2060.0, 1760.0, 6700.0, 9640.0, 15420.0, 4420.0, 580.0, 10400.0, 1000.0, 260.0, 1800.0, 1300.0, 1160.0, 14980.0, 460.0, 440.0, 1740.0, 460.0, 2680.0, 120.0, 2120.0, 1820.0, 1880.0, 4660.0, 180.0, 840.0, 2240.0, 7980.0, 420.0, 15220.0, 9680.0, 6500.0, 1300.0, 2860.0, 1220.0, 900.0, 1140.0, 1320.0, 1900.0, 11000.0, 1940.0, 13400.0, 140.0, 820.0, 760.0, 1360.0, 1160.0, 860.0, 1280.0, 4980.0, 1680.0, 1580.0, 2860.0, 10460.0, 1780.0]\n"
     ]
    }
   ],
   "source": [
    "print(data)"
   ]
  },
  {
   "cell_type": "code",
   "execution_count": 60,
   "metadata": {},
   "outputs": [
    {
     "data": {
      "image/png": "[encoded data removed]",
      "text/plain": [
       "<Figure size 432x288 with 1 Axes>"
      ]
     },
     "metadata": {},
     "output_type": "display_data"
    }
   ],
   "source": [
    "n, bins, _ = plt.hist(data, bins=np.arange(0.0, 21000.0, 2000.0), color='w', edgecolor='r', histtype='step')"
   ]
  },
  {
   "cell_type": "code",
   "execution_count": 61,
   "metadata": {},
   "outputs": [
    {
     "name": "stdout",
     "output_type": "stream",
     "text": [
      "[106.  28.  20.   7.   4.   6.   2.   3.   0.   1.]\n",
      "[10.295630140986999, 5.2915026221291805, 4.47213595499958, 2.6457513110645903, 2.0, 2.4494897427831783, 1.414213562373095, 1.7320508075688774, 0.0, 1.0]\n"
     ]
    }
   ],
   "source": [
    "yerr=[]\n",
    "xerr=[]\n",
    "for i in range(len(n)):\n",
    "    if (n[i] !=0):\n",
    "        err = n[i]/np.sqrt(n[i])\n",
    "    else:\n",
    "        err=0.0\n",
    "    yerr.append(err)\n",
    "    xerr.append(1000)\n",
    "\n",
    "print(n)\n",
    "print(yerr)"
   ]
  },
  {
   "cell_type": "code",
   "execution_count": 62,
   "metadata": {},
   "outputs": [
    {
     "name": "stdout",
     "output_type": "stream",
     "text": [
      "[  500.  2500.  4500.  6500.  8500. 10500. 12500. 14500. 16500. 18500.]\n"
     ]
    }
   ],
   "source": [
    "x=np.zeros(len(bins)-1)\n",
    "\n",
    "for i in range(len(bins)-1):\n",
    "    x[i]=bins[i]+500\n",
    "    \n",
    "\n",
    "print(x)"
   ]
  },
  {
   "cell_type": "code",
   "execution_count": 63,
   "metadata": {},
   "outputs": [
    {
     "data": {
      "image/png": "[encoded data removed]",
      "text/plain": [
       "<Figure size 432x288 with 1 Axes>"
      ]
     },
     "metadata": {},
     "output_type": "display_data"
    }
   ],
   "source": [
    "plt.errorbar(x,n,yerr=yerr,xerr=xerr,linestyle=\"None\")\n",
    "plt.savefig('10_bin_sample.pdf')"
   ]
  },
  {
   "cell_type": "code",
   "execution_count": null,
   "metadata": {},
   "outputs": [],
   "source": []
  }
 ],
 "metadata": {
  "kernelspec": {
   "display_name": "Python 3",
   "language": "python",
   "name": "python3"
  },
  "language_info": {
   "codemirror_mode": {
    "name": "ipython",
    "version": 3
   },
   "file_extension": ".py",
   "mimetype": "text/x-python",
   "name": "python",
   "nbconvert_exporter": "python",
   "pygments_lexer": "ipython3",
   "version": "3.6.5"
  }
 },
 "nbformat": 4,
 "nbformat_minor": 2
}
